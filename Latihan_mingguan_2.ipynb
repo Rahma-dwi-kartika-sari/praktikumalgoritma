{
  "nbformat": 4,
  "nbformat_minor": 0,
  "metadata": {
    "colab": {
      "provenance": []
    },
    "kernelspec": {
      "name": "python3",
      "display_name": "Python 3"
    },
    "language_info": {
      "name": "python"
    }
  },
  "cells": [
    {
      "cell_type": "code",
      "execution_count": null,
      "metadata": {
        "colab": {
          "base_uri": "https://localhost:8080/"
        },
        "id": "lurOr5LT6Wt6",
        "outputId": "dc912bdf-6a11-481e-f72a-877baf023317"
      },
      "outputs": [
        {
          "output_type": "stream",
          "name": "stdout",
          "text": [
            "Panjang: 20.5\n",
            "Lebar: 25\n",
            "Tinggi: 10\n",
            "Keliling: 91.0\n",
            "Volume: 5125.0\n"
          ]
        }
      ],
      "source": [
        "panjang = 20.5\n",
        "lebar = 25\n",
        "tinggi = 10\n",
        "\n",
        "keliling = 2*(panjang+lebar)\n",
        "luas = panjang*lebar\n",
        "volume = panjang*lebar*tinggi\n",
        "\n",
        "print(\"Panjang:\" , panjang)\n",
        "print(\"Lebar:\" ,   lebar)\n",
        "print(\"Tinggi:\" ,  tinggi)\n",
        "print(\"Keliling:\" ,  keliling)\n",
        "print(\"Volume:\" , volume)"
      ]
    },
    {
      "cell_type": "code",
      "source": [
        "#Masukkan data dengan variabel\n",
        "jam_per_hari = 8\n",
        "hari_per_bulan = 23 #Agustus memiliki 31 hari dan libur selama 8 hari\n",
        "honor_per_jam = 30000\n",
        "tunjangan_persen = 0.10\n",
        "jam_lembur = 5\n",
        "honor_lembur_per_jam = 10000\n",
        "hari_tidak_masuk = 3\n",
        "\n",
        "#Hitung jumlah jam kerja dalam sebulan tanpa tunjangan dan lembur\n",
        "jam_kerja_sebulan = (hari_per_bulan - hari_tidak_masuk) * jam_per_hari\n",
        "\n",
        "#Hitung gaji bulanan sebelum tunjangan dan lembur\n",
        "gaji_bulanan = jam_kerja_sebulan * honor_per_jam\n",
        "\n",
        "#Hitung tunjangan\n",
        "tunjangan = gaji_bulanan * tunjangan_persen\n",
        "\n",
        "#Hitung gaji sebelum lembur\n",
        "gaji_belum_lembur = gaji_bulanan + tunjangan\n",
        "\n",
        "#Hitung total gaji setelah lembur\n",
        "gaji_lembur = jam_lembur * honor_lembur_per_jam\n",
        "total_gaji = gaji_belum_lembur + gaji_lembur\n",
        "\n",
        "print(f\"Gaji pada bulan agustus jika Dwi tidak masuk kerja selama tiga hari adalah Rp {gaji_bulanan:,}\")\n",
        "print(f\"Tunjangan yang diterima oleh Dewi pada bulan Agustus adalah Rp {tunjangan:,}\")\n",
        "print(f\"Total gaji Dwi pada bulan Agustus dengan tunjangan dan lembur adalah Rp {total_gaji:,}\")"
      ],
      "metadata": {
        "colab": {
          "base_uri": "https://localhost:8080/"
        },
        "id": "a2_n4bQ22jcf",
        "outputId": "3a468dec-73a5-44a6-abe4-99651298efc0"
      },
      "execution_count": 1,
      "outputs": [
        {
          "output_type": "stream",
          "name": "stdout",
          "text": [
            "Gaji pada bulan agustus jika Dwi tidak masuk kerja selama tiga hari adalah Rp 4,800,000\n",
            "Tunjangan yang diterima oleh Dewi pada bulan Agustus adalah Rp 480,000.0\n",
            "Total gaji Dwi pada bulan Agustus dengan tunjangan dan lembur adalah Rp 5,330,000.0\n"
          ]
        }
      ]
    }
  ]
}