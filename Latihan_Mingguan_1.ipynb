{
  "nbformat": 4,
  "nbformat_minor": 0,
  "metadata": {
    "colab": {
      "provenance": []
    },
    "kernelspec": {
      "name": "python3",
      "display_name": "Python 3"
    },
    "language_info": {
      "name": "python"
    }
  },
  "cells": [
    {
      "cell_type": "code",
      "source": [
        "print(\"Nama           : Rahma Dwi Kartika Sari\")\n",
        "print()\n",
        "print(\"NPM            : 2410506008\")\n",
        "print()\n",
        "print(\"Alamat         : DSN Sidomulyo Timur, RT/RW 03/03, Desa Rejosari, Kec. Bandongan, Kab. Magelang\")\n",
        "print()\n",
        "print(\"Tinggi Badan   : 153\")\n",
        "print()\n",
        "print(\"Berat Badan    : 55\")"
      ],
      "metadata": {
        "colab": {
          "base_uri": "https://localhost:8080/"
        },
        "id": "8AZ3OjOTssas",
        "outputId": "5ddef7b6-0cd9-4376-f997-5c0ed76710d3"
      },
      "execution_count": null,
      "outputs": [
        {
          "output_type": "stream",
          "name": "stdout",
          "text": [
            "Nama           : Rahma Dwi Kartika Sari\n",
            "\n",
            "NPM            : 2410506008\n",
            "\n",
            "Alamat         : DSN Sidomulyo Timur, RT/RW 03/03, Desa Rejosari, Kec. Bandongan, Kab. Magelang\n",
            "\n",
            "Tinggi Badan   : 153\n",
            "\n",
            "Berat Badan    : 55\n"
          ]
        }
      ]
    },
    {
      "cell_type": "code",
      "source": [
        "print(\"\\033[1mUNIVERSITAS TIDAR\\033[0m\")\n",
        "print(\"Universitas Tidar merupakan Perguruan Tinggi Pemerintah atau Perguruan Tinggi Negeri yang telah ditetapkan berdasarkan Peraturan Presiden Republik Indonesia Nomor 23 Tahun 2014 pada tanggal 1 April 2024\")\n",
        "print()\n",
        "print(\"\\033[1mJurusan TEKNIK ELEKTRO, MEKATRONIKA DAN INFORMASI\\033[0m\")\n",
        "print(\"Jurusan Teknik Elektro terdiri atas tiga program studi, antara lain:\")\n",
        "print(\"   1. S1 Teknik Elektro (\\x1B[3mSarjana Teknik Elektro\\x1B[0m)\")\n",
        "print(\"   2. S1 Teknologi Informasi (\\x1B[3mSarjana Teknologi Informasi\\x1B[0m)\")\n",
        "print(\"   3. S1 Teknik Mekatronika (\\x1B[3mSarjana Teknik Mekatronika\\x1B[0m)\")"
      ],
      "metadata": {
        "colab": {
          "base_uri": "https://localhost:8080/"
        },
        "outputId": "832e2dfa-9a05-4a35-dd48-65d6111b7f2e",
        "id": "0J3HTFuKzF2r"
      },
      "execution_count": null,
      "outputs": [
        {
          "output_type": "stream",
          "name": "stdout",
          "text": [
            "\u001b[1mUNIVERSITAS TIDAR\u001b[0m\n",
            "Universitas Tidar merupakan Perguruan Tinggi Pemerintah atau Perguruan Tinggi Negeri yang telah ditetapkan berdasarkan Peraturan Presiden Republik Indonesia Nomor 23 Tahun 2014 pada tanggal 1 April 2024\n",
            "\n",
            "\u001b[1mJurusan TEKNIK ELEKTRO, MEKATRONIKA DAN INFORMASI\u001b[0m\n",
            "Jurusan Teknik Elektro terdiri atas tiga program studi, antara lain:\n",
            "   1. S1 Teknik Elektro (\u001b[3mSarjana Teknik Elektro\u001b[0m)\n",
            "   2. S1 Teknologi Informasi (\u001b[3mSarjana Teknologi Informasi\u001b[0m)\n",
            "   3. S1 Teknik Mekatronika (\u001b[3mSarjana Teknik Mekatronika\u001b[0m)\n"
          ]
        }
      ]
    }
  ]
}